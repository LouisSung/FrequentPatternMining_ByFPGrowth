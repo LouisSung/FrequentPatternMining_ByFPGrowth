{
 "cells": [
  {
   "cell_type": "code",
   "execution_count": 1,
   "metadata": {},
   "outputs": [
    {
     "name": "stdout",
     "output_type": "stream",
     "text": [
      "要產生幾筆transaction?: 100\n"
     ]
    }
   ],
   "source": [
    "import random\n",
    "\n",
    "transactionCount = input(\"要產生幾筆transaction?: \")\n",
    "\n",
    "itemRange = range(0, 150+1)\n",
    "itemCountInEachTransaction = random.randint(30, 100)\n",
    "\n",
    "fileW_dataForSPMF = open(\"dataForSPMF_\" + transactionCount + \".txt\", \"w\")\n",
    "fileW_dataForHW = open(\"dataForHW_\" + transactionCount + \".txt\", \"w\")\n",
    "fileE_dataForSPMF = open(\"resultForSPMF_\" + transactionCount + \".txt\", \"w\")    #Empty File\n",
    "fileE_dataForSPMF.close()\n",
    "\n",
    "for i in range(int(transactionCount)):\n",
    "    randomTransaction = sorted(random.sample(itemRange, itemCountInEachTransaction))\n",
    "    spmf = \" \".join(str(i) for i in randomTransaction) + \"\\n\"\n",
    "    hw = \",\".join(str(i) for i in randomTransaction) + \"\\n\"\n",
    "    fileW_dataForSPMF.write(spmf)\n",
    "    fileW_dataForHW.write(hw)\n",
    "    \n",
    "fileW_dataForSPMF.close()\n",
    "fileW_dataForHW.close()"
   ]
  },
  {
   "cell_type": "code",
   "execution_count": 7,
   "metadata": {
    "scrolled": false
   },
   "outputs": [
    {
     "name": "stdout",
     "output_type": "stream",
     "text": [
      "minimum support ratio為?:0.15\n"
     ]
    }
   ],
   "source": [
    "minimumSupportRatio = input(\"minimum support ratio為?:\")\n",
    "\n",
    "fileR_dataForSPMFout = open(\"resultForSPMF_\" + transactionCount + \".txt\", \"r\")\n",
    "fileW_result = open(\"resultForHW_\" + transactionCount + \"_\" + minimumSupportRatio + \".txt\", \"w\")\n",
    "\n",
    "for line in fileR_dataForSPMFout:\n",
    "    tmp = line.split(\" \")\n",
    "    supportRatio = \"{:.4f}\".format(float(tmp[-1])/int(transactionCount))\n",
    "\n",
    "    if(len(tmp)==3):\n",
    "        fileW_result.write(tmp[0] + \":\" + supportRatio + \"\\n\")\n",
    "    else:\n",
    "        transaction =\",\".join(str(i) for i in tmp[:-3])\n",
    "        fileW_result.write(transaction + \":\" + supportRatio + \"\\n\")\n",
    "        \n",
    "fileR_dataForSPMFout.close()\n",
    "fileW_result.close()\n",
    "\n",
    "import os\n",
    "os.rename(\"resultForSPMF_\" + transactionCount + \".txt\", \"resultForSPMF_\" + transactionCount + \"_\" + minimumSupportRatio + \".txt\")"
   ]
  },
  {
   "cell_type": "code",
   "execution_count": null,
   "metadata": {},
   "outputs": [],
   "source": []
  }
 ],
 "metadata": {
  "kernelspec": {
   "display_name": "Python 3",
   "language": "python",
   "name": "python3"
  },
  "language_info": {
   "codemirror_mode": {
    "name": "ipython",
    "version": 3
   },
   "file_extension": ".py",
   "mimetype": "text/x-python",
   "name": "python",
   "nbconvert_exporter": "python",
   "pygments_lexer": "ipython3",
   "version": "3.6.4"
  }
 },
 "nbformat": 4,
 "nbformat_minor": 2
}
